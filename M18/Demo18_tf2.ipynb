{
 "cells": [
  {
   "cell_type": "markdown",
   "metadata": {},
   "source": [
    "## TensorFlow unstack使用 \n",
    "\n",
    "### unstack at axis = 0\n",
    "![Alt text](./images/basic_tensorflow/unstack_axis0.png)\n",
    "### unstack at axis = 1\n",
    "![Alt text](./images/basic_tensorflow/unstack_axis1.png)\n",
    "### unstack at axis = 2\n",
    "![Alt text](./images/basic_tensorflow/unstack_axis2.png)\n"
   ]
  },
  {
   "cell_type": "code",
   "execution_count": 3,
   "metadata": {},
   "outputs": [
    {
     "name": "stdout",
     "output_type": "stream",
     "text": [
      "(3, 2)\n",
      "x=\n",
      " [[0.7 0.9]\n",
      " [0.1 0.4]\n",
      " [0.5 0.8]]\n",
      "tf.Tensor([0.7 0.1 0.5], shape=(3,), dtype=float32)\n",
      "tf.Tensor([0.9 0.4 0.8], shape=(3,), dtype=float32)\n"
     ]
    }
   ],
   "source": [
    "import tensorflow as tf\n",
    "x = tf.constant([[0.7,0.9],[0.1,0.4],[0.5,0.8]], name='x')\n",
    "print(x.shape)  # (3,2)\n",
    "print('x=\\n',x.numpy())\n",
    "axis0_x = tf.unstack(x, axis=1)  # axis=0, 表示拆成3堆，每堆2個元素， axis=1, 表示拆2\n",
    "print(axis0_x[0])\n",
    "print(axis0_x[1])\n",
    "# print(axis0_x[2])"
   ]
  },
  {
   "cell_type": "markdown",
   "metadata": {},
   "source": [
    "## TensorFlow stack使用\n",
    "\n",
    "### origin data\n",
    "![Alt text](./images/basic_tensorflow/stack_origin.png)\n",
    "### stack at axis = 0\n",
    "![Alt text](./images/basic_tensorflow/stack_axis0.png)\n",
    "### stack at axis = 1\n",
    "![Alt text](./images/basic_tensorflow/stack_axis1.png)"
   ]
  },
  {
   "cell_type": "code",
   "execution_count": 8,
   "metadata": {},
   "outputs": [
    {
     "name": "stdout",
     "output_type": "stream",
     "text": [
      "x=\n",
      " tf.Tensor(\n",
      "[[1. 2.]\n",
      " [3. 4.]\n",
      " [5. 6.]], shape=(3, 2), dtype=float32) (3, 2)\n",
      "y=\n",
      " tf.Tensor(\n",
      "[[1. 1.]\n",
      " [0. 1.]\n",
      " [1. 1.]], shape=(3, 2), dtype=float32) (3, 2)\n",
      "stacked_axis0_result=\n",
      " tf.Tensor(\n",
      "[[[1. 2.]\n",
      "  [3. 4.]\n",
      "  [5. 6.]]\n",
      "\n",
      " [[1. 1.]\n",
      "  [0. 1.]\n",
      "  [1. 1.]]], shape=(2, 3, 2), dtype=float32)\n",
      "(2, 3, 2)\n",
      "stacked_axis1_result=\n",
      " tf.Tensor(\n",
      "[[[1. 2.]\n",
      "  [1. 1.]]\n",
      "\n",
      " [[3. 4.]\n",
      "  [0. 1.]]\n",
      "\n",
      " [[5. 6.]\n",
      "  [1. 1.]]], shape=(3, 2, 2), dtype=float32)\n",
      "(3, 2, 2)\n",
      "stacked_axis2_result=\n",
      " tf.Tensor(\n",
      "[[[1. 1.]\n",
      "  [2. 1.]]\n",
      "\n",
      " [[3. 0.]\n",
      "  [4. 1.]]\n",
      "\n",
      " [[5. 1.]\n",
      "  [6. 1.]]], shape=(3, 2, 2), dtype=float32)\n",
      "(3, 2, 2)\n"
     ]
    }
   ],
   "source": [
    "x = tf.constant([[1.0, 2.0], [3.0, 4.0], [5.0, 6.0]], name='x')\n",
    "print('x=\\n',x, x.shape)\n",
    "y = tf.constant([[1.0, 1.0], [0.0, 1.0], [1.0, 1.0]], name='y')\n",
    "print('y=\\n',y, y.shape)\n",
    "stacked_axis0_result = tf.stack([x,y], axis=0)\n",
    "stacked_axis1_result = tf.stack([x,y], axis=1)\n",
    "stacked_axis2_result = tf.stack([x,y], axis=2)\n",
    "\n",
    "print('stacked_axis0_result=\\n',stacked_axis0_result)\n",
    "print(stacked_axis0_result.shape)\n",
    "    \n",
    "print('stacked_axis1_result=\\n',stacked_axis1_result)\n",
    "print(stacked_axis1_result.shape)\n",
    "\n",
    "print('stacked_axis2_result=\\n',stacked_axis2_result)\n",
    "print(stacked_axis2_result.shape)"
   ]
  },
  {
   "cell_type": "markdown",
   "metadata": {},
   "source": [
    "\n",
    "\n"
   ]
  },
  {
   "cell_type": "markdown",
   "metadata": {
    "collapsed": true
   },
   "source": [
    " "
   ]
  },
  {
   "cell_type": "code",
   "execution_count": null,
   "metadata": {},
   "outputs": [],
   "source": []
  }
 ],
 "metadata": {
  "kernelspec": {
   "display_name": "Python 3",
   "language": "python",
   "name": "python3"
  },
  "language_info": {
   "codemirror_mode": {
    "name": "ipython",
    "version": 3
   },
   "file_extension": ".py",
   "mimetype": "text/x-python",
   "name": "python",
   "nbconvert_exporter": "python",
   "pygments_lexer": "ipython3",
   "version": "3.8.8"
  }
 },
 "nbformat": 4,
 "nbformat_minor": 2
}
