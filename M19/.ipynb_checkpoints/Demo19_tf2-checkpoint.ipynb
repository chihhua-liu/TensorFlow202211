{
 "cells": [
  {
   "cell_type": "markdown",
   "metadata": {},
   "source": [
    "# Tokenizer and pad_sequences"
   ]
  },
  {
   "cell_type": "code",
   "execution_count": 8,
   "metadata": {},
   "outputs": [
    {
     "name": "stdout",
     "output_type": "stream",
     "text": [
      "['Some ThING to eat !', 'some thing to drink .', 'some thing']\n",
      "========\n",
      "OrderedDict([('some', 3), ('thing', 3), ('to', 2), ('eat', 1), ('drink', 1)])\n",
      "{'some': 1, 'thing': 2, 'to': 3, 'eat': 4, 'drink': 5}\n",
      "========\n",
      "[[1, 2, 3, 4], [1, 2, 3, 5], [1, 2]]\n",
      "found 5 unique tokens\n"
     ]
    }
   ],
   "source": [
    "from keras.preprocessing.text import Tokenizer\n",
    "from tensorflow.keras.preprocessing.sequence import pad_sequences\n",
    "\n",
    "text1 = 'Some ThING to eat !'\n",
    "text2 = 'some thing to drink .'\n",
    "text3 = 'some thing'\n",
    "texts=[text1,text2, text3]\n",
    "print(texts)\n",
    "print('========')\n",
    "tokenizer = Tokenizer(num_words=100) #num_words:None或整数,处理的最大单词数量。少于此数的单词丢掉\n",
    "tokenizer.fit_on_texts(texts)\n",
    "print(tokenizer.word_counts) \n",
    "print(tokenizer.word_index) \n",
    "\n",
    "print('========')\n",
    "sequences = tokenizer.texts_to_sequences(texts)\n",
    "word_index = tokenizer.word_index\n",
    "print(sequences)\n",
    "print('found {} unique tokens'.format(len(word_index)))"
   ]
  },
  {
   "cell_type": "code",
   "execution_count": 9,
   "metadata": {},
   "outputs": [
    {
     "name": "stdout",
     "output_type": "stream",
     "text": [
      "[[1 2 3 4 0 0 0 0]\n",
      " [1 2 3 5 0 0 0 0]\n",
      " [1 2 0 0 0 0 0 0]]\n"
     ]
    }
   ],
   "source": [
    "pad_seq = pad_sequences(sequences, maxlen=8, padding='post')\n",
    "print(pad_seq)"
   ]
  },
  {
   "cell_type": "markdown",
   "metadata": {},
   "source": [
    "# MNIST"
   ]
  },
  {
   "cell_type": "code",
   "execution_count": 1,
   "metadata": {},
   "outputs": [],
   "source": [
    "import numpy as np\n",
    "from tensorflow.keras.models import Sequential\n",
    "from tensorflow.keras.layers import Dense, Activation, SimpleRNN\n",
    "from tensorflow.keras.utils import to_categorical, plot_model\n",
    "from tensorflow.keras.datasets import mnist\n",
    "\n",
    "# load mnist dataset\n",
    "(x_train, y_train), (x_test, y_test) = mnist.load_data()"
   ]
  },
  {
   "cell_type": "code",
   "execution_count": 2,
   "metadata": {},
   "outputs": [],
   "source": [
    "# compute the number of labels\n",
    "num_labels = len(np.unique(y_train))"
   ]
  },
  {
   "cell_type": "code",
   "execution_count": 3,
   "metadata": {},
   "outputs": [],
   "source": [
    "# convert to one-hot vector\n",
    "y_train = to_categorical(y_train)\n",
    "y_test = to_categorical(y_test)"
   ]
  },
  {
   "cell_type": "code",
   "execution_count": 4,
   "metadata": {},
   "outputs": [],
   "source": [
    "# resize and normalize\n",
    "image_size = x_train.shape[1]\n",
    "x_train = np.reshape(x_train,[-1, image_size, image_size])\n",
    "x_test = np.reshape(x_test,[-1, image_size, image_size])\n",
    "x_train = x_train.astype('float32') / 255\n",
    "x_test = x_test.astype('float32') / 255"
   ]
  },
  {
   "cell_type": "code",
   "execution_count": 5,
   "metadata": {},
   "outputs": [
    {
     "name": "stdout",
     "output_type": "stream",
     "text": [
      "Model: \"sequential\"\n",
      "_________________________________________________________________\n",
      "Layer (type)                 Output Shape              Param #   \n",
      "=================================================================\n",
      "simple_rnn (SimpleRNN)       (None, 256)               72960     \n",
      "_________________________________________________________________\n",
      "dense (Dense)                (None, 10)                2570      \n",
      "_________________________________________________________________\n",
      "activation (Activation)      (None, 10)                0         \n",
      "=================================================================\n",
      "Total params: 75,530\n",
      "Trainable params: 75,530\n",
      "Non-trainable params: 0\n",
      "_________________________________________________________________\n"
     ]
    }
   ],
   "source": [
    "# network parameters\n",
    "input_shape = (image_size, image_size)\n",
    "batch_size = 128\n",
    "units = 256\n",
    "\n",
    "# model is RNN with 256 units, input is 28-dim vector 28 timesteps\n",
    "model = Sequential()\n",
    "# input_ shape = (timesteps, input_dim)\n",
    "model.add(SimpleRNN(units=units,\n",
    "                    input_shape=input_shape))\n",
    "model.add(Dense(num_labels))\n",
    "model.add(Activation('softmax'))\n",
    "model.summary()"
   ]
  },
  {
   "cell_type": "code",
   "execution_count": 6,
   "metadata": {},
   "outputs": [
    {
     "name": "stdout",
     "output_type": "stream",
     "text": [
      "Epoch 1/20\n",
      "469/469 [==============================] - 9s 19ms/step - loss: 0.6511 - accuracy: 0.8239\n",
      "Epoch 2/20\n",
      "469/469 [==============================] - 9s 20ms/step - loss: 0.2663 - accuracy: 0.9233\n",
      "Epoch 3/20\n",
      "469/469 [==============================] - 9s 20ms/step - loss: 0.2033 - accuracy: 0.9401\n",
      "Epoch 4/20\n",
      "469/469 [==============================] - 13s 28ms/step - loss: 0.1635 - accuracy: 0.9526\n",
      "Epoch 5/20\n",
      "469/469 [==============================] - 9s 19ms/step - loss: 0.1398 - accuracy: 0.9591\n",
      "Epoch 6/20\n",
      "469/469 [==============================] - 10s 21ms/step - loss: 0.1236 - accuracy: 0.9641\n",
      "Epoch 7/20\n",
      "469/469 [==============================] - 10s 21ms/step - loss: 0.1088 - accuracy: 0.9684\n",
      "Epoch 8/20\n",
      "469/469 [==============================] - 10s 20ms/step - loss: 0.0981 - accuracy: 0.9718\n",
      "Epoch 9/20\n",
      "469/469 [==============================] - 9s 19ms/step - loss: 0.0903 - accuracy: 0.9735\n",
      "Epoch 10/20\n",
      "469/469 [==============================] - 8s 18ms/step - loss: 0.0835 - accuracy: 0.9754 0s - loss: 0.0833 - accu\n",
      "Epoch 11/20\n",
      "469/469 [==============================] - 8s 18ms/step - loss: 0.0765 - accuracy: 0.9778\n",
      "Epoch 12/20\n",
      "469/469 [==============================] - 9s 20ms/step - loss: 0.0723 - accuracy: 0.9789\n",
      "Epoch 13/20\n",
      "469/469 [==============================] - 9s 19ms/step - loss: 0.0698 - accuracy: 0.9798\n",
      "Epoch 14/20\n",
      "469/469 [==============================] - 11s 23ms/step - loss: 0.0620 - accuracy: 0.9823\n",
      "Epoch 15/20\n",
      "469/469 [==============================] - 12s 26ms/step - loss: 0.0602 - accuracy: 0.9819\n",
      "Epoch 16/20\n",
      "469/469 [==============================] - 9s 20ms/step - loss: 0.0571 - accuracy: 0.9834\n",
      "Epoch 17/20\n",
      "469/469 [==============================] - 10s 21ms/step - loss: 0.0536 - accuracy: 0.9844\n",
      "Epoch 18/20\n",
      "469/469 [==============================] - 11s 23ms/step - loss: 0.0505 - accuracy: 0.9849\n",
      "Epoch 19/20\n",
      "469/469 [==============================] - 10s 21ms/step - loss: 0.0483 - accuracy: 0.9856\n",
      "Epoch 20/20\n",
      "469/469 [==============================] - 9s 20ms/step - loss: 0.0462 - accuracy: 0.9858\n"
     ]
    },
    {
     "data": {
      "text/plain": [
       "<tensorflow.python.keras.callbacks.History at 0x1c88d16d088>"
      ]
     },
     "execution_count": 6,
     "metadata": {},
     "output_type": "execute_result"
    }
   ],
   "source": [
    "# loss function for one-hot vector\n",
    "# use of sgd optimizer\n",
    "# accuracy is good metric for classification tasks\n",
    "model.compile(loss='categorical_crossentropy',\n",
    "              optimizer='sgd',\n",
    "              metrics=['accuracy'])\n",
    "# train the network\n",
    "model.fit(x_train, y_train, epochs=20, batch_size=batch_size)"
   ]
  },
  {
   "cell_type": "code",
   "execution_count": 7,
   "metadata": {},
   "outputs": [
    {
     "name": "stdout",
     "output_type": "stream",
     "text": [
      "\n",
      "Test accuracy: 98.0%\n"
     ]
    }
   ],
   "source": [
    "_, acc = model.evaluate(x_test,\n",
    "                        y_test,\n",
    "                        batch_size=batch_size,\n",
    "                        verbose=0)\n",
    "print(\"\\nTest accuracy: %.1f%%\" % (100.0 * acc))"
   ]
  },
  {
   "cell_type": "markdown",
   "metadata": {},
   "source": [
    "# IMDB"
   ]
  },
  {
   "cell_type": "code",
   "execution_count": 1,
   "metadata": {},
   "outputs": [],
   "source": [
    "import numpy as np\n",
    "from tensorflow.keras.models import Sequential\n",
    "from tensorflow.keras.layers import Dense, Activation, SimpleRNN\n",
    "from tensorflow.keras.utils import to_categorical, plot_model\n",
    "from tensorflow.keras.datasets import mnist\n",
    "import tensorflow as tf\n",
    "\n",
    "total_words = 10000\n",
    "(x_train, y_train), (x_test, y_test) = tf.keras.datasets.imdb.load_data(num_words=total_words)"
   ]
  },
  {
   "cell_type": "code",
   "execution_count": 2,
   "metadata": {},
   "outputs": [],
   "source": [
    "max_review_len = 80\n",
    "# x_train:[b, 80]\n",
    "# x_test: [b, 80]\n",
    "x_train = tf.keras.preprocessing.sequence.pad_sequences(x_train, maxlen=max_review_len)\n",
    "x_test = tf.keras.preprocessing.sequence.pad_sequences(x_test, maxlen=max_review_len)"
   ]
  },
  {
   "cell_type": "code",
   "execution_count": 3,
   "metadata": {},
   "outputs": [],
   "source": [
    "batch_size = 32\n",
    "db_train = tf.data.Dataset.from_tensor_slices((x_train, y_train))\n",
    "db_train = db_train.shuffle(1000).batch(batch_size, drop_remainder=True)\n",
    "db_test = tf.data.Dataset.from_tensor_slices((x_test, y_test))\n",
    "db_test = db_test.batch(batch_size, drop_remainder=True)"
   ]
  },
  {
   "cell_type": "code",
   "execution_count": 6,
   "metadata": {},
   "outputs": [],
   "source": [
    "embedding_len =32\n",
    "\n",
    "class MyRNN(tf.keras.Model):\n",
    "\n",
    "    def __init__(self, units):\n",
    "        super(MyRNN, self).__init__()\n",
    "\n",
    "        # [b, 64]\n",
    "        self.state = [tf.zeros([batch_size, units])]\n",
    "        # self.state1 = [tf.zeros([batchsz, units])]\n",
    "        # transform text to embedding representation\n",
    "        # [b, 80] => [b, 80, 100]\n",
    "        self.embedding = tf.keras.layers.Embedding(total_words, embedding_len,\n",
    "                                          input_length=max_review_len)\n",
    "        # [b, 80, 100] , h_dim: 64\n",
    "        # RNN: cell1 ,cell2, cell3\n",
    "        # SimpleRNN\n",
    "        self.rnn_cell = tf.keras.layers.SimpleRNNCell(units, dropout=0.2)\n",
    "        # self.rnn_cell1 = layers.SimpleRNNCell(units, dropout=0.5)\n",
    "        # fc, [b, 80, 100] => [b, 64] => [b, 1]\n",
    "        self.fc= tf.keras.layers.Dense(1)\n",
    "\n",
    "    def call(self, inputs, training=None):\n",
    "        # [b, 80]\n",
    "        x = inputs\n",
    "        # embedding: [b, 80] => [b, 80, 100]\n",
    "        x = self.embedding(x)\n",
    "        # rnn cell compute\n",
    "        # [b, 80, 100] => [b, 64]\n",
    "        state = self.state\n",
    "        # state1 = self.state1\n",
    "        for word in tf.unstack(x, axis=1): # word: [b, 100]\n",
    "            # h1 = x*wxh+h0*whh\n",
    "            # out: [b, 64]\n",
    "            out, state = self.rnn_cell(word, state, training)\n",
    "        # out: [b, 64] => [b, 1]\n",
    "        x = self.fc(out)\n",
    "        # p(y is pos|x)\n",
    "        prob = tf.sigmoid(x)\n",
    "\n",
    "        return prob\n",
    "\n",
    "model = MyRNN(64) \n",
    "model.compile(optimizer='adam',\n",
    "              loss='binary_crossentropy',\n",
    "              metrics=['accuracy'])"
   ]
  },
  {
   "cell_type": "code",
   "execution_count": 8,
   "metadata": {},
   "outputs": [
    {
     "name": "stdout",
     "output_type": "stream",
     "text": [
      "Epoch 1/5\n",
      "781/781 [==============================] - 6s 8ms/step - loss: 0.6238 - accuracy: 0.6265 - val_loss: 0.5178 - val_accuracy: 0.7456\n",
      "Epoch 2/5\n",
      "781/781 [==============================] - 6s 8ms/step - loss: 0.4072 - accuracy: 0.8219 - val_loss: 0.4623 - val_accuracy: 0.8019\n",
      "Epoch 3/5\n",
      "781/781 [==============================] - 6s 8ms/step - loss: 0.3353 - accuracy: 0.8542 - val_loss: 0.4626 - val_accuracy: 0.8100\n",
      "Epoch 4/5\n",
      "781/781 [==============================] - 7s 9ms/step - loss: 0.1986 - accuracy: 0.9222 - val_loss: 0.5914 - val_accuracy: 0.7741\n",
      "Epoch 5/5\n",
      "781/781 [==============================] - 6s 8ms/step - loss: 0.1311 - accuracy: 0.9521 - val_loss: 0.6717 - val_accuracy: 0.7944\n"
     ]
    }
   ],
   "source": [
    "history = model.fit(db_train,\n",
    "                    epochs=5,\n",
    "                    batch_size=512,\n",
    "                    validation_data=db_test,\n",
    "                    verbose=1)"
   ]
  },
  {
   "cell_type": "markdown",
   "metadata": {},
   "source": [
    "# IMDB (keras)"
   ]
  },
  {
   "cell_type": "code",
   "execution_count": 12,
   "metadata": {},
   "outputs": [
    {
     "name": "stdout",
     "output_type": "stream",
     "text": [
      "Loading data......\n",
      "25000 train sequences\n",
      "25000 test sequences\n",
      "Pad Sequences (samples x time\n",
      "input_train shape: (25000, 500)\n",
      "input_test shape: (25000, 500)\n",
      "Epoch 1/10\n",
      "157/157 [==============================] - 16s 104ms/step - loss: 0.6331 - acc: 0.6197 - val_loss: 0.5361 - val_acc: 0.7424\n",
      "Epoch 2/10\n",
      "157/157 [==============================] - 15s 92ms/step - loss: 0.4215 - acc: 0.8203 - val_loss: 0.4413 - val_acc: 0.8004\n",
      "Epoch 3/10\n",
      "157/157 [==============================] - 14s 87ms/step - loss: 0.3014 - acc: 0.8795 - val_loss: 0.4034 - val_acc: 0.8318\n",
      "Epoch 4/10\n",
      "157/157 [==============================] - 14s 90ms/step - loss: 0.2313 - acc: 0.9123 - val_loss: 0.3830 - val_acc: 0.8578\n",
      "Epoch 5/10\n",
      "157/157 [==============================] - 15s 96ms/step - loss: 0.1807 - acc: 0.9360 - val_loss: 0.3999 - val_acc: 0.8346\n",
      "Epoch 6/10\n",
      "157/157 [==============================] - 15s 96ms/step - loss: 0.1195 - acc: 0.9607 - val_loss: 0.4518 - val_acc: 0.8208\n",
      "Epoch 7/10\n",
      "157/157 [==============================] - 15s 95ms/step - loss: 0.0655 - acc: 0.9804 - val_loss: 0.5011 - val_acc: 0.8506\n",
      "Epoch 8/10\n",
      "157/157 [==============================] - 14s 91ms/step - loss: 0.0391 - acc: 0.9893 - val_loss: 0.5699 - val_acc: 0.8176\n",
      "Epoch 9/10\n",
      "157/157 [==============================] - 15s 97ms/step - loss: 0.0214 - acc: 0.9945 - val_loss: 0.7244 - val_acc: 0.7782\n",
      "Epoch 10/10\n",
      "157/157 [==============================] - 15s 94ms/step - loss: 0.0145 - acc: 0.9955 - val_loss: 0.6518 - val_acc: 0.8188\n"
     ]
    },
    {
     "data": {
      "image/png": "[encoded data removed]",
      "text/plain": [
       "<Figure size 432x288 with 1 Axes>"
      ]
     },
     "metadata": {
      "needs_background": "light"
     },
     "output_type": "display_data"
    },
    {
     "data": {
      "image/png": "[encoded data removed]",
      "text/plain": [
       "<Figure size 432x288 with 1 Axes>"
      ]
     },
     "metadata": {
      "needs_background": "light"
     },
     "output_type": "display_data"
    }
   ],
   "source": [
    "from tensorflow.keras.datasets import imdb\n",
    "from tensorflow.keras.preprocessing import sequence\n",
    "import tensorflow as tf\n",
    "\n",
    "\n",
    "max_features = 10000\n",
    "maxlen = 500\n",
    "batch_size = 32\n",
    "\n",
    "print('Loading data......')\n",
    "(input_train, y_train), (input_test, y_test) = imdb.load_data(num_words=max_features)\n",
    "print(len(input_train), 'train sequences')\n",
    "print(len(input_test), 'test sequences')\n",
    "\n",
    "print('Pad Sequences (samples x time')\n",
    "input_train = sequence.pad_sequences(input_train, maxlen=maxlen)\n",
    "input_test = sequence.pad_sequences(input_test, maxlen=maxlen)\n",
    "print('input_train shape:', input_train.shape)\n",
    "print('input_test shape:', input_test.shape)\n",
    "\n",
    "from keras.layers import Dense, Embedding\n",
    "\n",
    "model = Sequential()\n",
    "model.add(tf.keras.layers.Embedding(max_features, 32))\n",
    "model.add(tf.keras.layers.SimpleRNN(32))\n",
    "model.add(tf.keras.layers.Dense(1, activation='sigmoid'))\n",
    "\n",
    "model.compile(optimizer='rmsprop', loss='binary_crossentropy', metrics=['acc'])\n",
    "hist = model.fit(input_train, y_train,\n",
    "                 epochs=10,\n",
    "                 batch_size=128,\n",
    "                 validation_split=0.2)\n",
    "\n",
    "import matplotlib.pyplot as plt\n",
    "\n",
    "acc = hist.history['acc']\n",
    "val_acc = hist.history['val_acc']\n",
    "loss = hist.history['loss']\n",
    "val_loss = hist.history['val_loss']\n",
    "\n",
    "epochs = range(len(acc))\n",
    "\n",
    "plt.plot(epochs, acc, 'bo', label='Training acc')\n",
    "plt.plot(epochs, val_acc, 'b', label='Validation acc')\n",
    "plt.title('Training and validation accuracy')\n",
    "plt.legend()\n",
    "plt.figure()\n",
    "\n",
    "plt.plot(epochs, loss, 'bo', label='Training loss')\n",
    "plt.plot(epochs, val_loss, 'b', label='Validation loss')\n",
    "plt.title('Training and validation loss')\n",
    "plt.legend()\n",
    "\n",
    "plt.show()\n"
   ]
  },
  {
   "cell_type": "code",
   "execution_count": null,
   "metadata": {},
   "outputs": [],
   "source": []
  }
 ],
 "metadata": {
  "kernelspec": {
   "display_name": "Python 3",
   "language": "python",
   "name": "python3"
  },
  "language_info": {
   "codemirror_mode": {
    "name": "ipython",
    "version": 3
   },
   "file_extension": ".py",
   "mimetype": "text/x-python",
   "name": "python",
   "nbconvert_exporter": "python",
   "pygments_lexer": "ipython3",
   "version": "3.8.8"
  }
 },
 "nbformat": 4,
 "nbformat_minor": 4
}
