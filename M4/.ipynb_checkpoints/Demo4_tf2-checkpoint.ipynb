{
 "cells": [
  {
   "cell_type": "markdown",
   "metadata": {},
   "source": [
    "## MNIST 使用\n",
    "MNIST is a computer vision dataset. It consists of black and white images from zero to nine. Each image is 28 * 28. Also, it includes labels for each image, telling us which digit it is.\n",
    "\n",
    "![Alt text](./images/dnn_implement/Selection_017.png)\n",
    "![Alt text](./images/dnn_implement/Selection_018.png)\n"
   ]
  },
  {
   "cell_type": "code",
   "execution_count": 1,
   "metadata": {},
   "outputs": [
    {
     "name": "stdout",
     "output_type": "stream",
     "text": [
      "(60000, 28, 28)\n",
      "(60000,)\n",
      "[5 0 4 ... 5 6 8]\n"
     ]
    }
   ],
   "source": [
    "from tensorflow import keras\n",
    "from tensorflow.keras import layers\n",
    "import matplotlib.pyplot as plt\n",
    "\n",
    "(x_train, y_train), (x_test, y_test) = keras.datasets.mnist.load_data()\n",
    "\n",
    "print(x_train.shape)\n",
    "print(y_train.shape)\n",
    "print(y_train)"
   ]
  },
  {
   "cell_type": "code",
   "execution_count": 2,
   "metadata": {},
   "outputs": [
    {
     "data": {
      "image/png": "[encoded data removed]",
      "text/plain": [
       "<Figure size 432x288 with 1 Axes>"
      ]
     },
     "metadata": {
      "needs_background": "light"
     },
     "output_type": "display_data"
    }
   ],
   "source": [
    "plt.figure()\n",
    "plt.imshow(x_train[0])\n",
    "\n",
    "plt.show()"
   ]
  },
  {
   "cell_type": "code",
   "execution_count": 3,
   "metadata": {},
   "outputs": [
    {
     "name": "stdout",
     "output_type": "stream",
     "text": [
      "x_train shape: (60000, 784)\n",
      "x_test shape: (10000, 784)\n",
      "y_train shape: (60000,)\n",
      "y_test shape: (10000,)\n"
     ]
    }
   ],
   "source": [
    "x_train = x_train.reshape([x_train.shape[0], 28*28])\n",
    "x_test = x_test.reshape([x_test.shape[0], 28*28])\n",
    "print('x_train shape: {}'.format(x_train.shape))\n",
    "print('x_test shape: {}'.format(x_test.shape))\n",
    "print('y_train shape: {}'.format(y_train.shape))\n",
    "print('y_test shape: {}'.format(y_test.shape))"
   ]
  },
  {
   "cell_type": "markdown",
   "metadata": {},
   "source": [
    "# TensorFlow2不同創建模型的方法  \n",
    "ref:　https://towardsdatascience.com/3-ways-to-build-neural-networks-in-tensorflow-with-the-keras-api-80e92d3b5b7e"
   ]
  },
  {
   "cell_type": "markdown",
   "metadata": {},
   "source": [
    "![title](images/diff_method.png)"
   ]
  },
  {
   "cell_type": "code",
   "execution_count": 4,
   "metadata": {},
   "outputs": [
    {
     "name": "stdout",
     "output_type": "stream",
     "text": [
      "(60000, 28, 28)\n",
      "(60000,)\n",
      "[5 0 4 ... 5 6 8]\n",
      "Model: \"sequential\"\n",
      "_________________________________________________________________\n",
      "Layer (type)                 Output Shape              Param #   \n",
      "=================================================================\n",
      "flatten (Flatten)            (None, 784)               0         \n",
      "_________________________________________________________________\n",
      "dense (Dense)                (None, 256)               200960    \n",
      "_________________________________________________________________\n",
      "dense_1 (Dense)              (None, 10)                2570      \n",
      "=================================================================\n",
      "Total params: 203,530\n",
      "Trainable params: 203,530\n",
      "Non-trainable params: 0\n",
      "_________________________________________________________________\n"
     ]
    }
   ],
   "source": [
    "from tensorflow import keras\n",
    "from tensorflow.keras import layers\n",
    "import matplotlib.pyplot as plt\n",
    "import tensorflow as tf\n",
    "tf.compat.v1.reset_default_graph()\n",
    "\n",
    "(x_train, y_train), (x_test, y_test) = keras.datasets.mnist.load_data()\n",
    "\n",
    "print(x_train.shape)\n",
    "print(y_train.shape)\n",
    "print(y_train)\n",
    "\n",
    "# sequential API\n",
    "\n",
    "model = keras.Sequential([ \n",
    "          layers.Flatten(input_shape=(28, 28)), \n",
    "          layers.Dense(256,'relu'), \n",
    "          layers.Dense(10, \"softmax\"),\n",
    "          ])\n",
    "model.summary()"
   ]
  },
  {
   "cell_type": "code",
   "execution_count": 5,
   "metadata": {},
   "outputs": [
    {
     "name": "stdout",
     "output_type": "stream",
     "text": [
      "(60000, 28, 28)\n",
      "(60000,)\n",
      "[5 0 4 ... 5 6 8]\n",
      "Model: \"mnist_model\"\n",
      "_________________________________________________________________\n",
      "Layer (type)                 Output Shape              Param #   \n",
      "=================================================================\n",
      "input_1 (InputLayer)         [(None, 28, 28)]          0         \n",
      "_________________________________________________________________\n",
      "flatten (Flatten)            (None, 784)               0         \n",
      "_________________________________________________________________\n",
      "dense (Dense)                (None, 256)               200960    \n",
      "_________________________________________________________________\n",
      "dense_1 (Dense)              (None, 10)                2570      \n",
      "=================================================================\n",
      "Total params: 203,530\n",
      "Trainable params: 203,530\n",
      "Non-trainable params: 0\n",
      "_________________________________________________________________\n"
     ]
    }
   ],
   "source": [
    "from tensorflow import keras\n",
    "from tensorflow.keras import layers\n",
    "import matplotlib.pyplot as plt\n",
    "import tensorflow as tf\n",
    "tf.compat.v1.reset_default_graph()\n",
    "\n",
    "(x_train, y_train), (x_test, y_test) = keras.datasets.mnist.load_data()\n",
    "\n",
    "print(x_train.shape)\n",
    "print(y_train.shape)\n",
    "print(y_train)\n",
    "\n",
    "# functional API\n",
    "\n",
    "inputs = keras.Input(shape=(28, 28)) \n",
    "x = layers.Flatten()(inputs) \n",
    "x = layers.Dense(256, \"relu\")(x) \n",
    "outputs = layers.Dense(10, \"softmax\")(x) \n",
    "\n",
    "model = keras.Model(inputs=inputs, outputs=outputs, name=\"mnist_model\")\n",
    "model.summary()"
   ]
  },
  {
   "cell_type": "code",
   "execution_count": 6,
   "metadata": {},
   "outputs": [
    {
     "name": "stdout",
     "output_type": "stream",
     "text": [
      "Model: \"custom_model\"\n",
      "_________________________________________________________________\n",
      "Layer (type)                 Output Shape              Param #   \n",
      "=================================================================\n",
      "flatten (Flatten)            multiple                  0         \n",
      "_________________________________________________________________\n",
      "dense (Dense)                multiple                  200960    \n",
      "_________________________________________________________________\n",
      "dense_1 (Dense)              multiple                  2570      \n",
      "=================================================================\n",
      "Total params: 203,530\n",
      "Trainable params: 203,530\n",
      "Non-trainable params: 0\n",
      "_________________________________________________________________\n"
     ]
    }
   ],
   "source": [
    "from tensorflow import keras\n",
    "from tensorflow.keras import layers\n",
    "import matplotlib.pyplot as plt\n",
    "import tensorflow as tf\n",
    "tf.compat.v1.reset_default_graph()\n",
    "\n",
    "# Model Subclassing\n",
    "\n",
    "class CustomModel(tf.keras.Model):\n",
    "    def __init__(self):\n",
    "        super().__init__()\n",
    "        self.layer_1 = tf.keras.layers.Flatten()\n",
    "        self.layer_2 = tf.keras.layers.Dense(256, \"relu\")\n",
    "        self.layer_3 = tf.keras.layers.Dense(10, \"softmax\")\n",
    "    def call(self, inputs):\n",
    "        x = self.layer_1(inputs)\n",
    "        x = self.layer_2(x)\n",
    "        x = self.layer_3(x)\n",
    "        return x\n",
    "\n",
    "model = CustomModel()\n",
    "model.build((None, 28, 28))\n",
    "model.summary()"
   ]
  },
  {
   "cell_type": "markdown",
   "metadata": {},
   "source": [
    "# 建立DNN網路模型"
   ]
  },
  {
   "cell_type": "code",
   "execution_count": 7,
   "metadata": {},
   "outputs": [
    {
     "name": "stdout",
     "output_type": "stream",
     "text": [
      "tf.Tensor(\n",
      "[[0.16034989 0.08834132 0.14730108 0.08603836 0.04908289 0.09534343\n",
      "  0.10732535 0.07298677 0.10331272 0.08991822]\n",
      " [0.12490938 0.06779654 0.19780248 0.05244605 0.0520857  0.07057306\n",
      "  0.13083722 0.07206073 0.08542068 0.14606813]\n",
      " [0.11715712 0.09434215 0.1254085  0.05716365 0.06930985 0.09227771\n",
      "  0.11506265 0.09204631 0.10123462 0.13599746]\n",
      " [0.09202883 0.07951487 0.14815272 0.04994658 0.08389764 0.0829713\n",
      "  0.10898091 0.10926821 0.08265308 0.16258588]\n",
      " [0.10443673 0.07321701 0.07178959 0.09568408 0.11645452 0.08799329\n",
      "  0.14698249 0.07607134 0.07743271 0.14993827]], shape=(5, 10), dtype=float32)\n",
      "(5, 10)\n",
      "<tf.Variable 'mlp/dense_2/kernel:0' shape=(784, 100) dtype=float32, numpy=\n",
      "array([[ 0.05579871, -0.03509723,  0.00942597, ...,  0.03621226,\n",
      "        -0.00682025,  0.02747198],\n",
      "       [ 0.06155351, -0.04721343, -0.04659319, ...,  0.04038484,\n",
      "         0.00936048, -0.058995  ],\n",
      "       [ 0.04108289,  0.05957565,  0.05979502, ..., -0.02353339,\n",
      "        -0.05008429,  0.02885377],\n",
      "       ...,\n",
      "       [ 0.06439118, -0.06431434, -0.05840937, ...,  0.05665362,\n",
      "         0.07736957, -0.04640686],\n",
      "       [-0.00046841,  0.03950962, -0.0763611 , ...,  0.01002105,\n",
      "         0.07641447,  0.02271675],\n",
      "       [-0.07614704,  0.06667246, -0.0270578 , ...,  0.07509404,\n",
      "        -0.04350941,  0.00481322]], dtype=float32)>\n",
      "<tf.Variable 'mlp/dense_2/bias:0' shape=(100,) dtype=float32, numpy=\n",
      "array([0., 0., 0., 0., 0., 0., 0., 0., 0., 0., 0., 0., 0., 0., 0., 0., 0.,\n",
      "       0., 0., 0., 0., 0., 0., 0., 0., 0., 0., 0., 0., 0., 0., 0., 0., 0.,\n",
      "       0., 0., 0., 0., 0., 0., 0., 0., 0., 0., 0., 0., 0., 0., 0., 0., 0.,\n",
      "       0., 0., 0., 0., 0., 0., 0., 0., 0., 0., 0., 0., 0., 0., 0., 0., 0.,\n",
      "       0., 0., 0., 0., 0., 0., 0., 0., 0., 0., 0., 0., 0., 0., 0., 0., 0.,\n",
      "       0., 0., 0., 0., 0., 0., 0., 0., 0., 0., 0., 0., 0., 0., 0.],\n",
      "      dtype=float32)>\n"
     ]
    }
   ],
   "source": [
    "import numpy as np\n",
    "from tensorflow import keras\n",
    "import tensorflow as tf\n",
    "\n",
    "class MNISTLoader():\n",
    "    def __init__(self):\n",
    "        mnist = tf.keras.datasets.mnist\n",
    "        (self.train_data, self.train_label), (self.test_data, self.test_label) = mnist.load_data()\n",
    "\n",
    "        self.train_data = np.expand_dims(self.train_data.astype(np.float32) / 255.0, axis=-1)      # [60000, 28, 28, 1]\n",
    "        self.test_data = np.expand_dims(self.test_data.astype(np.float32) / 255.0, axis=-1)        # [10000, 28, 28, 1]\n",
    "        self.train_label = self.train_label.astype(np.int32)    # [60000]\n",
    "        self.test_label = self.test_label.astype(np.int32)      # [10000]\n",
    "        self.num_train_data, self.num_test_data = self.train_data.shape[0], self.test_data.shape[0]\n",
    "\n",
    "    def get_batch(self, batch_size):\n",
    "\n",
    "        index = np.random.randint(0, self.num_train_data, batch_size)\n",
    "        return self.train_data[index, :], self.train_label[index]\n",
    "    \n",
    "class MLP(tf.keras.Model):\n",
    "    def __init__(self):\n",
    "        super().__init__()\n",
    "        self.flatten = tf.keras.layers.Flatten()    \n",
    "        self.dense1 = tf.keras.layers.Dense(units=100, activation=tf.nn.relu)\n",
    "        self.dense2 = tf.keras.layers.Dense(units=10)\n",
    "\n",
    "    def call(self, inputs):         # [batch_size, 28, 28, 1]\n",
    "        x = self.flatten(inputs)    # [batch_size, 784]\n",
    "        x = self.dense1(x)          # [batch_size, 100]\n",
    "        x = self.dense2(x)          # [batch_size, 10]\n",
    "        output = tf.nn.softmax(x)\n",
    "        return output\n",
    "\n",
    "batch_size = 5\n",
    "\n",
    "data_loader = MNISTLoader()\n",
    "model = MLP()\n",
    "\n",
    "X, y = data_loader.get_batch(batch_size)\n",
    "with tf.GradientTape() as tape:\n",
    "    y_pred = model(X)\n",
    "    print(y_pred)\n",
    "    print(y_pred.shape)\n",
    "    \n",
    "print(model.dense1.weights[0])\n",
    "print(model.dense1.weights[1])"
   ]
  },
  {
   "cell_type": "markdown",
   "metadata": {},
   "source": [
    "# 建立DNN網路模型(keras)"
   ]
  },
  {
   "cell_type": "code",
   "execution_count": 8,
   "metadata": {},
   "outputs": [
    {
     "name": "stdout",
     "output_type": "stream",
     "text": [
      "Model: \"sequential\"\n",
      "_________________________________________________________________\n",
      "Layer (type)                 Output Shape              Param #   \n",
      "=================================================================\n",
      "dense (Dense)                (None, 32)                25120     \n",
      "_________________________________________________________________\n",
      "dense_1 (Dense)              (None, 64)                2112      \n",
      "_________________________________________________________________\n",
      "dense_2 (Dense)              (None, 10)                650       \n",
      "=================================================================\n",
      "Total params: 27,882\n",
      "Trainable params: 27,882\n",
      "Non-trainable params: 0\n",
      "_________________________________________________________________\n"
     ]
    }
   ],
   "source": [
    "from tensorflow import keras\n",
    "import tensorflow as tf\n",
    "from tensorflow.keras import layers\n",
    "import matplotlib.pyplot as plt\n",
    "tf.compat.v1.reset_default_graph()\n",
    "\n",
    "(x_train, y_train), (x_test, y_test) = keras.datasets.mnist.load_data()\n",
    "\n",
    "\n",
    "#initializer = tf.keras.initializers.RandomNormal(mean=0., stddev=1., seed=1)\n",
    "initializer = tf.keras.initializers.TruncatedNormal(mean=0.0, stddev=0.05, seed=1)\n",
    "\n",
    "model = keras.Sequential([\n",
    "    layers.Dense(32, activation='relu', input_shape=(784,)),\n",
    "    layers.Dense(64, activation='relu'),\n",
    "#    layers.Dense(64, activation='relu', kernel_initializer=initializer, bias_initializer=initializer),\n",
    "    layers.Dense(10, activation='softmax')\n",
    "])\n",
    "\n",
    "\n",
    "'''\n",
    "model = tf.keras.Sequential()\n",
    "model.add(layers.Dense(32, activation='relu', input_shape=(784,)))\n",
    "model.add(layers.Dense(64, activation='relu'))\n",
    "model.add(layers.Dense(10, activation='softmax'))\n",
    "'''\n",
    "\n",
    "model.summary()"
   ]
  },
  {
   "cell_type": "code",
   "execution_count": 9,
   "metadata": {},
   "outputs": [
    {
     "name": "stdout",
     "output_type": "stream",
     "text": [
      "print layer1 weights:\n",
      "(784, 32)\n",
      "<tf.Variable 'dense/kernel:0' shape=(784, 32) dtype=float32, numpy=\n",
      "array([[ 0.06304456, -0.03081895, -0.03522585, ...,  0.03094558,\n",
      "        -0.05021991,  0.05623629],\n",
      "       [-0.01084306, -0.04016816, -0.08133246, ..., -0.01093137,\n",
      "         0.01771715, -0.00773857],\n",
      "       [-0.03557955, -0.04812775, -0.05601905, ...,  0.04703157,\n",
      "         0.02833052, -0.0647322 ],\n",
      "       ...,\n",
      "       [-0.02646298,  0.01623353,  0.07820474, ..., -0.00779957,\n",
      "         0.04880919,  0.06280675],\n",
      "       [-0.06045065,  0.08513375,  0.01628912, ...,  0.0309859 ,\n",
      "         0.08469874,  0.01522064],\n",
      "       [ 0.00294255,  0.08057817,  0.05965958, ...,  0.06926911,\n",
      "        -0.06268469,  0.02076287]], dtype=float32)>\n",
      "print layer1 bias:\n",
      "(32,)\n",
      "<tf.Variable 'dense/bias:0' shape=(32,) dtype=float32, numpy=\n",
      "array([0., 0., 0., 0., 0., 0., 0., 0., 0., 0., 0., 0., 0., 0., 0., 0., 0.,\n",
      "       0., 0., 0., 0., 0., 0., 0., 0., 0., 0., 0., 0., 0., 0., 0.],\n",
      "      dtype=float32)>\n"
     ]
    }
   ],
   "source": [
    "print('print layer1 weights:')\n",
    "print(model.layers[0].weights[0].shape)\n",
    "print(model.layers[0].weights[0])\n",
    "print('print layer1 bias:')\n",
    "print(model.layers[0].weights[1].shape)\n",
    "print(model.layers[0].weights[1])\n",
    "\n"
   ]
  },
  {
   "cell_type": "markdown",
   "metadata": {},
   "source": [
    "# Plot model  \n",
    "`pip install pydot`"
   ]
  },
  {
   "cell_type": "code",
   "execution_count": 10,
   "metadata": {},
   "outputs": [
    {
     "data": {
      "image/png": "[encoded data removed]",
      "text/plain": [
       "<IPython.core.display.Image object>"
      ]
     },
     "execution_count": 10,
     "metadata": {},
     "output_type": "execute_result"
    }
   ],
   "source": [
    "import tensorflow as tf\n",
    "from tensorflow import keras\n",
    "from tensorflow.keras import layers\n",
    "from tensorflow.keras.utils import plot_model\n",
    "from IPython.display import Image\n",
    "import os\n",
    "os.environ[\"PATH\"] += os.pathsep + 'C:/Users/user/Desktop/資策會TensorFlow2/Module_04_DNN神經網路介紹/release/bin'\n",
    "tf.compat.v1.reset_default_graph()\n",
    "\n",
    "\n",
    "model = keras.Sequential(name='Sequential')\n",
    "model.add(layers.Dense(64, activation='relu', input_shape=(784,)))\n",
    "model.add(layers.Dense(64, activation='relu'))\n",
    "model.add(layers.Dense(10, activation='softmax'))\n",
    "\n",
    "\n",
    "plot_model(model, to_file='Sequential_Model.png')\n",
    "\n",
    "\n",
    "Image('Sequential_Model.png')"
   ]
  },
  {
   "cell_type": "code",
   "execution_count": 11,
   "metadata": {},
   "outputs": [
    {
     "data": {
      "image/png": "[encoded data removed]",
      "text/plain": [
       "<IPython.core.display.Image object>"
      ]
     },
     "execution_count": 11,
     "metadata": {},
     "output_type": "execute_result"
    }
   ],
   "source": [
    "import tensorflow as tf\n",
    "from tensorflow import keras\n",
    "from tensorflow.keras import layers\n",
    "from tensorflow.keras.utils import plot_model\n",
    "from IPython.display import Image\n",
    "import os\n",
    "os.environ[\"PATH\"] += os.pathsep + 'C:/Users/user/Desktop/資策會TensorFlow2/Module_04_DNN神經網路介紹/release/bin'\n",
    "tf.compat.v1.reset_default_graph()\n",
    "\n",
    "inputs = keras.Input(shape=(784,), name='Input')\n",
    "hidden1 = layers.Dense(64, activation='relu', name='hidden1')(inputs)\n",
    "hidden2 = layers.Dense(64, activation='relu', name='hidden2')(hidden1)\n",
    "outputs = layers.Dense(10, activation='softmax', name='Output')(hidden2)\n",
    "\n",
    "model = keras.Model(inputs=inputs, outputs=outputs)\n",
    "\n",
    "\n",
    "plot_model(model, to_file='Functional_API_Sample_Model.png')\n",
    "\n",
    "\n",
    "Image('Functional_API_Sample_Model.png')"
   ]
  },
  {
   "cell_type": "code",
   "execution_count": 12,
   "metadata": {},
   "outputs": [
    {
     "data": {
      "image/png": "[encoded data removed]",
      "text/plain": [
       "<IPython.core.display.Image object>"
      ]
     },
     "execution_count": 12,
     "metadata": {},
     "output_type": "execute_result"
    }
   ],
   "source": [
    "import tensorflow as tf\n",
    "from tensorflow import keras\n",
    "from tensorflow.keras import layers\n",
    "from tensorflow.keras.utils import plot_model\n",
    "from IPython.display import Image\n",
    "import os\n",
    "os.environ[\"PATH\"] += os.pathsep + 'C:/Users/user/Desktop/資策會TensorFlow2/Module_04_DNN神經網路介紹/release/bin'\n",
    "tf.compat.v1.reset_default_graph()\n",
    "\n",
    "#Multi Input Model\n",
    "\n",
    "input1 = keras.Input(shape=(28, 28, 1), name='input1')\n",
    "input2 = keras.Input(shape=(784, ), name='input2')\n",
    "\n",
    "flat1 = layers.Flatten()(input1) \n",
    "hidden1 = layers.Dense(64)(flat1)\n",
    "\n",
    "\n",
    "hidden2 = layers.Dense(64, activation='relu', name='hidden1_3')(input2)\n",
    "concat = layers.Concatenate()([hidden1, hidden2])\n",
    "hidden3 = layers.Dense(64, activation='relu', name='hidden2')(concat)\n",
    "outputs = layers.Dense(1, name='Output')(hidden3)\n",
    "\n",
    "model = keras.Model(inputs=[input1, input2], outputs=outputs)\n",
    "\n",
    "\n",
    "plot_model(model, to_file='Functional_API_Multi_Input_Model.png')\n",
    "\n",
    "\n",
    "Image('Functional_API_Multi_Input_Model.png')"
   ]
  },
  {
   "cell_type": "code",
   "execution_count": 13,
   "metadata": {},
   "outputs": [
    {
     "data": {
      "image/png": "[encoded data removed]",
      "text/plain": [
       "<IPython.core.display.Image object>"
      ]
     },
     "execution_count": 13,
     "metadata": {},
     "output_type": "execute_result"
    }
   ],
   "source": [
    "import tensorflow as tf\n",
    "from tensorflow import keras\n",
    "from tensorflow.keras import layers\n",
    "from tensorflow.keras.utils import plot_model\n",
    "from IPython.display import Image\n",
    "import os\n",
    "os.environ[\"PATH\"] += os.pathsep + 'C:/Users/user/Desktop/資策會TensorFlow2/Module_04_DNN神經網路介紹/release/bin'\n",
    "tf.compat.v1.reset_default_graph()\n",
    "\n",
    "# Multi Output Network\n",
    "\n",
    "inputs = keras.Input(shape=(28, 28, 1), name='Input')\n",
    "\n",
    "hidden1 = layers.Dense(32, activation='relu', name='hidden1')(inputs)\n",
    "hidden2 = layers.Dense(64, activation='relu', name='hidden2')(hidden1)\n",
    "hidden3 = layers.Dense(128, activation='relu', name='hidden3')(hidden2)\n",
    "flatten = layers.Flatten()(hidden3)\n",
    "\n",
    "age_output = layers.Dense(1, name='Age_Output')(flatten)\n",
    "gender_output = layers.Dense(1, name='Gender_Output')(flatten)\n",
    "\n",
    "model = keras.Model(inputs=inputs, outputs=[age_output, gender_output])\n",
    "\n",
    "plot_model(model, to_file='Functional_API_Multi_Output_Model.png')\n",
    "\n",
    "Image('Functional_API_Multi_Output_Model.png')"
   ]
  },
  {
   "cell_type": "code",
   "execution_count": 14,
   "metadata": {},
   "outputs": [
    {
     "data": {
      "image/png": "[encoded data removed]",
      "text/plain": [
       "<IPython.core.display.Image object>"
      ]
     },
     "execution_count": 14,
     "metadata": {},
     "output_type": "execute_result"
    }
   ],
   "source": [
    "import tensorflow as tf\n",
    "from tensorflow import keras\n",
    "from tensorflow.keras import layers\n",
    "from tensorflow.keras.utils import plot_model\n",
    "from IPython.display import Image\n",
    "import os\n",
    "os.environ[\"PATH\"] += os.pathsep + 'C:/Users/user/Desktop/資策會TensorFlow2/Module_04_DNN神經網路介紹/release/bin'\n",
    "tf.compat.v1.reset_default_graph()\n",
    "\n",
    "# Multi Input and Multi Output Network\n",
    "\n",
    "\n",
    "image_inputs = keras.Input(shape=(28, 28, 1), name='Image_Input')\n",
    "hidden1 = layers.Dense(32, activation='relu', name='hidden1')(image_inputs)\n",
    "hidden2 = layers.Dense(64, activation='relu', name='hidden2')(hidden1)\n",
    "hidden3 = layers.Dense(128, activation='relu', name='hidden3')(hidden2)\n",
    "flatten = layers.Flatten()(hidden3)\n",
    "\n",
    "info_inputs = keras.Input(shape=(10, ), name='Info_Input')\n",
    "hidden4 = layers.Dense(64)(info_inputs)\n",
    "\n",
    "concat = layers.Concatenate()([flatten, hidden4])\n",
    "\n",
    "weather_outputs = layers.Dense(1, name='Output1')(concat)\n",
    "temp_outputs = layers.Dense(1, name='Output2')(concat)\n",
    "humidity_outputs = layers.Dense(1, name='Output3')(concat)\n",
    "\n",
    "model = keras.Model(inputs=[image_inputs, info_inputs], \n",
    "                    outputs=[weather_outputs, temp_outputs, humidity_outputs])\n",
    "\n",
    "\n",
    "plot_model(model, to_file='Functional_API_Multi_Input_Multi_Output_Model.png')\n",
    "\n",
    "\n",
    "Image('Functional_API_Multi_Input_Multi_Output_Model.png')"
   ]
  },
  {
   "cell_type": "code",
   "execution_count": null,
   "metadata": {},
   "outputs": [],
   "source": []
  },
  {
   "cell_type": "code",
   "execution_count": null,
   "metadata": {},
   "outputs": [],
   "source": []
  }
 ],
 "metadata": {
  "kernelspec": {
   "display_name": "Python 3",
   "language": "python",
   "name": "python3"
  },
  "language_info": {
   "codemirror_mode": {
    "name": "ipython",
    "version": 3
   },
   "file_extension": ".py",
   "mimetype": "text/x-python",
   "name": "python",
   "nbconvert_exporter": "python",
   "pygments_lexer": "ipython3",
   "version": "3.8.8"
  }
 },
 "nbformat": 4,
 "nbformat_minor": 4
}
